{
 "cells": [
  {
   "cell_type": "markdown",
   "metadata": {},
   "source": [
    "# BSOC as a Convoultional Layer\n",
    "\n",
    "This work is based on papers by Dr. Gabriel Ferrer from Hendrix College. I will explore the practicality of using Bounded Self-Organizing Clusters (BSOC) as a way to create the first convoultional in a convoultional network. I will be using Pytorch as a baseline in this notebook.\n",
    "\n",
    "## Data:\n",
    "The data comes from pictures taken on a Galaxy S8 at 1280x720px.\n",
    "### 7/9/2018\n",
    "Room: 10 Pictures <br/>\n",
    "Kitchen: 10 Pictures\n",
    "\n",
    "## 1: Running a basic test with CIFAR10:"
   ]
  },
  {
   "cell_type": "code",
   "execution_count": 1,
   "metadata": {},
   "outputs": [
    {
     "name": "stdout",
     "output_type": "stream",
     "text": [
      "Files already downloaded and verified\n",
      "Files already downloaded and verified\n",
      "  car  ship  ship truck\n"
     ]
    }
   ],
   "source": [
    "## Loading the Data\n",
    "import torch\n",
    "import torchvision\n",
    "import torchvision.transforms as transforms\n",
    "import numpy as np\n",
    "import matplotlib.pyplot as plt\n",
    "\n",
    "transform = transforms.Compose(\n",
    "    [transforms.ToTensor(),\n",
    "     transforms.Normalize((0.5, 0.5, 0.5), (0.5, 0.5, 0.5))])\n",
    "\n",
    "trainset = torchvision.datasets.CIFAR10(root='./data', train=True,\n",
    "                                        download=True, transform=transform)\n",
    "trainloader = torch.utils.data.DataLoader(trainset, batch_size=4,\n",
    "                                          shuffle=True, num_workers=2)\n",
    "\n",
    "testset = torchvision.datasets.CIFAR10(root='./data', train=False,\n",
    "                                       download=True, transform=transform)\n",
    "testloader = torch.utils.data.DataLoader(testset, batch_size=4,\n",
    "                                         shuffle=False, num_workers=2)\n",
    "\n",
    "classes = ('plane', 'car', 'bird', 'cat',\n",
    "           'deer', 'dog', 'frog', 'horse', 'ship', 'truck')\n",
    "\n",
    "\n",
    "def imshow(img):\n",
    "    img = img / 2 + 0.5     # unnormalize\n",
    "    npimg = img.numpy()\n",
    "    plt.imshow(np.transpose(npimg, (1, 2, 0)))\n",
    "\n",
    "\n",
    "\n",
    "# get some random training images\n",
    "dataiter = iter(trainloader)\n",
    "images, labels = dataiter.next()\n",
    "\n",
    "# show images\n",
    "imshow(torchvision.utils.make_grid(images))\n",
    "# print labels\n",
    "print(' '.join('%5s' % classes[labels[j]] for j in range(4)))"
   ]
  },
  {
   "cell_type": "code",
   "execution_count": 31,
   "metadata": {},
   "outputs": [],
   "source": [
    "import torch.nn as nn\n",
    "import torch.nn.functional as F\n",
    "\n",
    "\n",
    "class ConvNet(nn.Module):\n",
    "    def __init__(self):\n",
    "        super(ConvNet, self).__init__()\n",
    "        self.conv1 = nn.Conv2d(3, 10, 5)\n",
    "        self.fc1 = nn.Linear(10 * 28 * 28, 10)\n",
    "        \n",
    "    def forward(self, x):\n",
    "        x = F.relu(self.conv1(x))\n",
    "        x = x.view(-1, 10 * 28 * 28)\n",
    "        x = self.fc1(x)\n",
    "        return x\n",
    "#     def __init__(self):\n",
    "#         super(ConvNet, self).__init__()\n",
    "#         self.conv1 = nn.Conv2d(3, 6, 5)\n",
    "#         self.pool = nn.MaxPool2d(2, 2)\n",
    "#         self.conv2 = nn.Conv2d(6, 16, 5)\n",
    "#         self.fc1 = nn.Linear(16 * 5 * 5, 120)\n",
    "#         self.fc2 = nn.Linear(120, 84)\n",
    "#         self.fc3 = nn.Linear(84, 10)\n",
    "\n",
    "#     def forward(self, x):\n",
    "#         print(x.size())\n",
    "#         x = self.pool(F.relu(self.conv1(x)))\n",
    "#         print(x.size())\n",
    "#         x = self.pool(F.relu(self.conv2(x)))\n",
    "#         print(x.size())\n",
    "#         x = x.view(-1, 16 * 5 * 5)\n",
    "#         print(x.size())\n",
    "#         x = F.relu(self.fc1(x))\n",
    "#         x = F.relu(self.fc2(x))\n",
    "#         x = self.fc3(x)\n",
    "#         return x\n",
    "\n",
    "\n",
    "\n",
    "# class BSOCNet(nn.Module):\n",
    "#     def __init__(self):\n",
    "#         super(BSOCNet, self).__init__()\n",
    "        \n",
    "net = ConvNet()"
   ]
  },
  {
   "cell_type": "markdown",
   "metadata": {},
   "source": [
    "It looks like from [here](https://discuss.pytorch.org/t/defining-a-conv2d-layer-with-fixed-kernel/8684) that we can use F.conv2d to manually define layers [documentation](https://pytorch.org/docs/stable/nn.html#torch.nn.functional.conv2d) and [this](https://discuss.pytorch.org/t/pytorch-replace-torch-nn-conv2d-with-torch-nn-functional-conv2d/16596) link might help if we get errors"
   ]
  },
  {
   "cell_type": "code",
   "execution_count": 19,
   "metadata": {},
   "outputs": [],
   "source": [
    "import torch.optim as optim\n",
    "\n",
    "criterion = nn.CrossEntropyLoss()\n",
    "optimizer = optim.SGD(net.parameters(), lr=0.001, momentum=0.9)"
   ]
  },
  {
   "cell_type": "code",
   "execution_count": 32,
   "metadata": {
    "scrolled": false
   },
   "outputs": [
    {
     "name": "stdout",
     "output_type": "stream",
     "text": [
      "[1,  2000] loss: 2.310\n",
      "[1,  4000] loss: 2.312\n",
      "[1,  6000] loss: 2.312\n",
      "[1,  8000] loss: 2.313\n",
      "[1, 10000] loss: 2.312\n",
      "[1, 12000] loss: 2.312\n",
      "[2,  2000] loss: 2.312\n",
      "[2,  4000] loss: 2.312\n",
      "[2,  6000] loss: 2.310\n",
      "[2,  8000] loss: 2.312\n",
      "[2, 10000] loss: 2.311\n",
      "[2, 12000] loss: 2.314\n",
      "Finished Training\n"
     ]
    }
   ],
   "source": [
    "\n",
    "for epoch in range(2):  # loop over the dataset multiple times\n",
    "    running_loss = 0.0\n",
    "    for i, data in enumerate(trainloader, 0):\n",
    "        # get the inputs\n",
    "        inputs, labels = data\n",
    "\n",
    "        # zero the parameter gradients\n",
    "        optimizer.zero_grad()\n",
    "\n",
    "        # forward + backward + optimize\n",
    "        outputs = net(inputs)\n",
    "        loss = criterion(outputs, labels)\n",
    "        loss.backward()\n",
    "        optimizer.step()\n",
    "\n",
    "        # print statistics\n",
    "        running_loss += loss.item()\n",
    "        \n",
    "        if i % 2000 == 1999:    # print every 2000 mini-batches\n",
    "            print('[%d, %5d] loss: %.3f' %\n",
    "                  (epoch + 1, i + 1, running_loss / 2000))\n",
    "            running_loss = 0.0\n",
    "\n",
    "print('Finished Training')"
   ]
  },
  {
   "cell_type": "markdown",
   "metadata": {},
   "source": [
    "Evidently, using only a Convoluted layer and a MLP/Dense layer is not a good classifier. The commented out code above is the tuorial which gives much lower loss (around 1.12)"
   ]
  },
  {
   "cell_type": "code",
   "execution_count": 34,
   "metadata": {},
   "outputs": [
    {
     "name": "stdout",
     "output_type": "stream",
     "text": [
      "(10, 3, 5, 5)\n",
      "(3,)\n",
      "[[-0.09637843  0.08512098  0.11013851 -0.01549788  0.02775969]\n",
      " [ 0.06870964  0.05168772 -0.03357208 -0.06287108  0.02407114]\n",
      " [-0.0111529  -0.08104364  0.03487998 -0.10813116  0.00409912]\n",
      " [ 0.01432148  0.07148701  0.06743662 -0.0345263   0.05942763]\n",
      " [ 0.08592044  0.0579102  -0.0812898   0.05857071  0.0347359 ]]\n",
      "0\n",
      "[[ 0.10365884 -0.00947934  0.05508061  0.09593777  0.11002512]\n",
      " [ 0.02702767  0.11001402  0.07536751  0.06760682 -0.02529428]\n",
      " [-0.01035385 -0.02507612  0.04104014 -0.05594692 -0.03454244]\n",
      " [ 0.10841495 -0.07611939  0.07138833  0.02999318  0.04930627]\n",
      " [ 0.0108217   0.02096641  0.10466358  0.0571364  -0.09553624]]\n",
      "10\n",
      "[[ 0.10512796 -0.03005054 -0.00940652  0.08912785 -0.03248838]\n",
      " [ 0.0964251   0.11412682 -0.02998253  0.02109608 -0.06853302]\n",
      " [-0.06128663  0.01218118  0.10603376  0.01264136  0.06043579]\n",
      " [-0.07368945 -0.0846523  -0.02348094  0.02945076 -0.02664285]\n",
      " [-0.00015405 -0.02702193 -0.08856401  0.10429175  0.10138449]]\n",
      "20\n"
     ]
    },
    {
     "data": {
      "image/png": "[encoded data removed]",
      "text/plain": [
       "<Figure size 432x288 with 3 Axes>"
      ]
     },
     "metadata": {},
     "output_type": "display_data"
    }
   ],
   "source": [
    "def view_kernels(tensor):\n",
    "    width, height, kern_width, kern_height = tensor.shape\n",
    "    _, axarr = plt.subplots(1 , height)\n",
    "    print(axarr.shape)\n",
    "    h = 0\n",
    "    w = 0\n",
    "    while ((h * height + w * width) < (height * width)):\n",
    "        axarr[w].axis('off')\n",
    "        axarr[w].imshow(tensor[w][h])\n",
    "        print(tensor[w][h])\n",
    "        print((h * height + w * width))\n",
    "        w += 1\n",
    "        if w >= width:\n",
    "            h += 1\n",
    "            w = 0\n",
    "    \n",
    "    \n",
    "count = 0\n",
    "for m in net.modules():\n",
    "    if isinstance(m, nn.Conv2d):\n",
    "        if count == 0:\n",
    "            print((m.weight.data.numpy().shape))\n",
    "            view_kernels(m.weight.data.numpy())\n",
    "        count += 1"
   ]
  },
  {
   "cell_type": "markdown",
   "metadata": {},
   "source": []
  }
 ],
 "metadata": {
  "kernelspec": {
   "display_name": "Python 3",
   "language": "python",
   "name": "python3"
  },
  "language_info": {
   "codemirror_mode": {
    "name": "ipython",
    "version": 3
   },
   "file_extension": ".py",
   "mimetype": "text/x-python",
   "name": "python",
   "nbconvert_exporter": "python",
   "pygments_lexer": "ipython3",
   "version": "3.5.5"
  }
 },
 "nbformat": 4,
 "nbformat_minor": 2
}
