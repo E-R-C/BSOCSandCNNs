{
 "cells": [
  {
   "cell_type": "markdown",
   "metadata": {},
   "source": [
    "# BSOC as a Convoultional Layer\n",
    "\n",
    "This work is based on papers by Dr. Gabriel Ferrer from Hendrix College. I will explore the practicality of using Bounded Self-Organizing Clusters (BSOC) as a way to create the first convoultional in a convoultional network. I will be using Pytorch as a baseline in this notebook.\n",
    "\n",
    "## Data:\n",
    "The data comes from pictures taken on a Galaxy S8 at 1280x720px.\n",
    "### 7/9/2018\n",
    "Room: 10 Pictures <br/>\n",
    "Kitchen: 10 Pictures\n",
    "\n",
    "## 1: Defining Our Heaps and BSOCs"
   ]
  },
  {
   "cell_type": "code",
   "execution_count": 1,
   "metadata": {},
   "outputs": [],
   "source": [
    "import torch\n",
    "import torchvision\n",
    "import torchvision.transforms as transforms\n",
    "import numpy as np\n",
    "import matplotlib.pyplot as plt\n",
    "from PIL import Image\n",
    "import heapq as hq\n",
    "\n",
    "## Let's write a wrapper around heapq to help keep us sane.\n",
    "## this heap needs to let us remove an arbitrary amount of edges\n",
    "\n",
    "class Heap():\n",
    "    def __init__(self):\n",
    "        self.list = []\n",
    "    def add(self, item, priority=0):\n",
    "        hq.heappush(self.list, (priority, item))\n",
    "    def add_many(self, entries_list, entries_priorities):\n",
    "        self.list += [li for li in zip(entries_priorities, entries)]\n",
    "        hq.heapify(self.list)\n",
    "    def pop(self):\n",
    "        return hq.heappop(self.list)\n",
    "    def filter_f(self, filter_func):\n",
    "        self.list = list(filter(filter_func, self.list))\n",
    "        hq.heapify(self.list)\n",
    "    def remove_many(self, entries):\n",
    "        set_check = set(entries)\n",
    "        self.list = [(p,e) for p,e in self.list if e not in set_check]\n",
    "        hq.heapify(self.list)\n",
    "        ## we do this because it is faster to create a new list rather than modify a ton of items in a list\n",
    "        ## Todo, check if this is faster than a for loop to remove each item from a list.\n",
    "    def __remove_1(self, entry):\n",
    "        i_to_remove = -1;\n",
    "        for i in range(len(self.list)):\n",
    "            p,e = self.list[i]\n",
    "            if e == entry:\n",
    "                i_to_remove = i\n",
    "        if i_to_remove == -1:\n",
    "            raise ValueError(\"Could not find entry in heap\")\n",
    "        del self.list[i_to_remove]\n",
    "    \n",
    "    def remove_any_instance_of(self, i):\n",
    "        self.list = [(p,e) for (p,e) in self.list if (e.a != i and e.b != i)]\n",
    "        hq.heapify(self.list)\n",
    "    def remove(self, entry):\n",
    "        self.__remove_1(entry)\n",
    "        hq.heapify(self.list)\n",
    "    def remove_many_inplace(self, entries):\n",
    "        for e in entries:\n",
    "            self.__remove_1(e)\n",
    "        \n",
    "    \n",
    "        \n",
    "## Let's also just name our edges\n",
    "class Edge():\n",
    "    def __init__(self, a, b, weight):\n",
    "        self.a = a\n",
    "        self.b = b\n",
    "        self.weight = weight\n",
    "    def __eq__(self, other):\n",
    "#         print(type(self.a))\n",
    "#         print(type(self.b))\n",
    "        return other.contains(self.a) and other.contains(self.b) and other.weight == self.weight\n",
    "\n",
    "    def __lt__(self, other):\n",
    "        return self.weight < other.weight\n",
    "    \n",
    "    def __le__(self, other):\n",
    "        return self.weight <= other.weight\n",
    "    \n",
    "    def __gt__(self, other):\n",
    "        return self.weight > other.weight\n",
    "    \n",
    "    def __ge__(self, other):\n",
    "        return self.weight >= other.weight\n",
    "    \n",
    "    def __repr__(self):\n",
    "        return str(self.a.ID) + \" \" + str(self.b.ID) + \" \" + str(self.weight)\n",
    "    ## checks if a or b is c\n",
    "    def contains(self, c):\n",
    "        t1 = self.a == c\n",
    "        t2 = self.b == c\n",
    "        return t1 or t2\n",
    "        \n",
    "        "
   ]
  },
  {
   "cell_type": "markdown",
   "metadata": {},
   "source": [
    "# Defining BSOC"
   ]
  },
  {
   "cell_type": "code",
   "execution_count": 2,
   "metadata": {},
   "outputs": [],
   "source": [
    "class BSOC_Image_Node():\n",
    "    def __init__(self, node_height, node_width, node_channels, ID = -1,  merge_count = 1, array=None):\n",
    "        self.height = node_height\n",
    "        self.width = node_width\n",
    "        self.channels = node_channels\n",
    "        self.ID = ID\n",
    "        \n",
    "        if array is None:\n",
    "            self.array = np.zeros(shape=(node_height, node_width, node_channels))\n",
    "        else :\n",
    "            self.array = array\n",
    "        self.merge_count = merge_count\n",
    "    \n",
    "    ## Returns a new node of this node and the other node merged together\n",
    "    ## merge_f(node1, node2) returns new node. \n",
    "    def merge(self, other_node, new_ID, merge_func = None):\n",
    "        if merge_func == None:\n",
    "            ## default merge\n",
    "            newCount = self.merge_count + other_node.merge_count\n",
    "            a1 = self.array\n",
    "            a2 = other_node.array\n",
    "            r1 = self.merge_count / newCount\n",
    "            r2 = other_node.merge_count / newCount\n",
    "            a3 = (a1 * r1) + (a2 * r2)\n",
    "            return BSOC_Image_Node(self.height, self.width, self.channels, ID=new_ID, merge_count = newCount, array=a3)\n",
    "        return merge_func(self, other_node)\n",
    "    \n",
    "    def __eq__(self, other):\n",
    "        return other.ID == self.ID\n",
    "#         return np.array_equal(self.array, other.array) and self.merge_count == other.merge_count\n",
    "    def __repr__(self):\n",
    "        return self.array.__repr__()\n",
    "        \n",
    "    def calculate_distance(self, other):\n",
    "        return (self.merge_count + other.merge_count) * np.sum(np.absolute(self.array - other.array))\n",
    "        \n",
    "        \n",
    "        \n",
    "class BSOC():\n",
    "    def __init__(self, nodes_count, node_channels=1):\n",
    "        self.total_nodes = nodes_count\n",
    "        self.node_channels = node_channels\n",
    "        self.node_list = []\n",
    "        self.pq = Heap()\n",
    "        self.generator = self.__default_generator()\n",
    "        \n",
    "    def __default_generator(self):\n",
    "        i = 0\n",
    "        while True:\n",
    "            yield i\n",
    "            i += 1\n",
    "    def next_ID(self):\n",
    "        return next(self.generator)\n",
    "    ## if we're below the node threshold, then place the pixel array into the numpy list, \n",
    "    def add_node(self, pixel_arr):\n",
    "        node = BSOC_Image_Node(pixel_arr.shape[0], pixel_arr.shape[1], pixel_arr.shape[2], ID=self.next_ID(), array=pixel_arr)\n",
    "        ## Add the node to the priority queue. \n",
    "        self.add_node_and_edges(node)\n",
    "        if len(self.node_list) > self.total_nodes:\n",
    "            weight, e = self.pq.pop()\n",
    "            self.node_list = [x for x in self.node_list if x not in (e.a, e.b) ] ## deletes a and b from the list\n",
    "            self.pq.remove_any_instance_of(e.a)\n",
    "            self.pq.remove_any_instance_of(e.b)\n",
    "            self.__merge(e.a, e.b)\n",
    "\n",
    "            \n",
    "                    \n",
    "    def add_node_and_edges(self, node):\n",
    "        for n in self.node_list:\n",
    "            e = Edge(node, n, weight=n.calculate_distance(node))\n",
    "            self.pq.add(e, e.weight)\n",
    "        self.node_list.append(node)\n",
    "\n",
    "    ## merges nodes a and b and adds their respective edges to the priority queue\n",
    "    ## merge_func = function to merge together the nodes at the indeces\n",
    "    def __merge(self, a, b, merge_func=None):\n",
    "        new_node = a.merge(b, self.next_ID(), merge_func)\n",
    "        self.add_node_and_edges(new_node)\n",
    "\n",
    "        \n",
    "    ## Only works on raw images, if converted to tensors or loaded from pytorch default libraries, it won't show\n",
    "    def print_bsoc(self, ncols=-1, nrows=1):\n",
    "        if ncols * nrows < len(self.node_list):\n",
    "            ncols = len(self.node_list)\n",
    "        fig, axeslist = plt.subplots(ncols=ncols, nrows=nrows, figsize=(20, 10))\n",
    "        print(len(self.node_list))\n",
    "            \n",
    "        for i in range(len(self.node_list)):\n",
    "            a = axeslist.ravel()[i]\n",
    "            a.imshow(self.node_list[i].array.astype(np.int64))\n",
    "            a.get_xaxis().set_visible(False)\n",
    "            a.get_yaxis().set_visible(False)\n",
    "            a.set_title('Merged {}x {}'.format(self.node_list[i].merge_count, self.node_list[i].ID))\n",
    "            "
   ]
  },
  {
   "cell_type": "markdown",
   "metadata": {},
   "source": [
    "# BSOC Test\n",
    "\n",
    "We need to verify that we correctly implemented BSOC, so let's see the output of combining a few images together\n",
    "\n",
    "## Loading data"
   ]
  },
  {
   "cell_type": "code",
   "execution_count": 3,
   "metadata": {},
   "outputs": [],
   "source": [
    "# Get out data files\n",
    "import os\n",
    "\n",
    "## Creating a base class for our dataset\n",
    "from torch.utils.data import Dataset\n",
    "from PIL import Image\n",
    "\n",
    "class simpleImageDataset(Dataset):\n",
    "    \"\"\" Loads images, it assumes that the folder in which the file is stored is the label \"\"\"\n",
    "    \n",
    "    def __init__(self, directory, transform=None):\n",
    "        self.label_to_ind_dict = {}\n",
    "        self.ind_to_label = {}\n",
    "        self.labels = []\n",
    "        self.file_paths = []\n",
    "        self.transform = transform\n",
    "        self.label_count = 0\n",
    "        for dirpath, dirname, filenames in os.walk(directory):\n",
    "            for file in filenames:\n",
    "                label = dirpath.split(os.sep)[-1]\n",
    "                if label not in self.label_to_ind_dict:\n",
    "                    self.label_to_ind_dict[label] = self.label_count\n",
    "                    self.ind_to_label[self.label_count] = label\n",
    "                    self.label_count += 1\n",
    "                self.labels.append(dirpath.split(os.sep)[-1])\n",
    "                self.file_paths.append(os.path.join(dirpath, file))\n",
    "    \n",
    "    def __len__(self):\n",
    "        return len(self.labels)\n",
    "    \n",
    "    def __getitem__(self, idx):\n",
    "        image = Image.open(self.file_paths[idx])\n",
    "        label = self.labels[idx]\n",
    "        sample = {'image':image}\n",
    "        \n",
    "        if self.transform:\n",
    "            sample = {'image': self.transform(image)}\n",
    "        return sample\n",
    "    def label_for(self, idx):\n",
    "        return self.labels[idx]\n",
    "    def label_tensor(self, idx):\n",
    "        return torch.Tensor([self.label_to_ind_dict[self.label_for(idx)], self.label_count])\n",
    "\n",
    "## Viewing our Data\n",
    "room_dataset = simpleImageDataset(\"./Data\", transform=transforms.Compose([transforms.Resize((72,128))]))"
   ]
  },
  {
   "cell_type": "code",
   "execution_count": 4,
   "metadata": {},
   "outputs": [],
   "source": [
    "import time\n",
    "\n",
    "## Generates kernels_count kernels of kernel_size from dataset \n",
    "def generate_kernels(kernels_count, kernel_size, dataset):\n",
    "    start_time = time.time() * 1000\n",
    "    bsoc = BSOC(nodes_count=kernels_count)\n",
    "    offset = (kernel_size // 2) * 2\n",
    "    for i,data in enumerate(dataset, 0):\n",
    "#     for i in range(1):\n",
    "        image = data[0].numpy()\n",
    "        ## Iterate through the image\n",
    "        for r in range(len(image[1]) - offset):\n",
    "            r_stop = r + kernel_size\n",
    "            for c in range(len(image[2]) - offset):\n",
    "                bsoc.add_node(image[:,r:r_stop, c:c+kernel_size])\n",
    "    print(\"Total time in milli: \" + str(time.time()*1000 - start_time))\n",
    "    return bsoc"
   ]
  },
  {
   "cell_type": "markdown",
   "metadata": {},
   "source": [
    "## BSOC using Test Data\n",
    "\n",
    "We make sure BSOC appears to cluster correctly using the following"
   ]
  },
  {
   "cell_type": "code",
   "execution_count": 5,
   "metadata": {},
   "outputs": [
    {
     "name": "stdout",
     "output_type": "stream",
     "text": [
      "10\n"
     ]
    },
    {
     "data": {
      "text/plain": [
       "[37, 40, 37, 36, 35, 33, 39, 38, 42, 63]"
      ]
     },
     "execution_count": 5,
     "metadata": {},
     "output_type": "execute_result"
    },
    {
     "data": {
      "image/png": "[encoded data removed]",
      "text/plain": [
       "<Figure size 1440x720 with 10 Axes>"
      ]
     },
     "metadata": {},
     "output_type": "display_data"
    }
   ],
   "source": [
    "test_dataset = simpleImageDataset(\"./test_data/\")\n",
    "bsoc = BSOC(nodes_count=10)\n",
    "\n",
    "for i in range(len(test_dataset)):\n",
    "    bsoc.add_node(np.array(test_dataset[i]['image']))\n",
    "bsoc.print_bsoc(nrows=2, ncols=5)\n",
    "[x.merge_count for x in bsoc.node_list]\n"
   ]
  },
  {
   "cell_type": "markdown",
   "metadata": {},
   "source": [
    "We see that it reasonably works, now let's test it on our room data by loading the data using the built in functions and resizing the images to 72x128px images"
   ]
  },
  {
   "cell_type": "code",
   "execution_count": 6,
   "metadata": {},
   "outputs": [],
   "source": [
    "room_dataset2 = torchvision.datasets.ImageFolder(root=\"./Data\",transform=transforms.Compose([transforms.Resize((72,128)),\n",
    "                                                                                    transforms.ToTensor()]))\n",
    "\n",
    "roomLoader = torch.utils.data.DataLoader(room_dataset2,batch_size=20,\n",
    "                                          shuffle=False, num_workers=2)"
   ]
  },
  {
   "cell_type": "code",
   "execution_count": 7,
   "metadata": {},
   "outputs": [
    {
     "name": "stdout",
     "output_type": "stream",
     "text": [
      "Total time in milli: 35476.592529296875\n"
     ]
    }
   ],
   "source": [
    "bsoc = generate_kernels(10, 5, room_dataset2)"
   ]
  },
  {
   "cell_type": "code",
   "execution_count": null,
   "metadata": {},
   "outputs": [],
   "source": []
  },
  {
   "cell_type": "code",
   "execution_count": 8,
   "metadata": {},
   "outputs": [
    {
     "data": {
      "text/plain": [
       "torch.Size([10, 3, 5, 5])"
      ]
     },
     "execution_count": 8,
     "metadata": {},
     "output_type": "execute_result"
    }
   ],
   "source": [
    "kernels = [x.array for x in bsoc.node_list]\n",
    "kernels = torch.from_numpy(np.array(kernels))\n",
    "kernels.shape"
   ]
  },
  {
   "cell_type": "code",
   "execution_count": 29,
   "metadata": {},
   "outputs": [],
   "source": [
    "import torch.nn as nn\n",
    "import torch.nn.functional as F\n",
    "import queue\n",
    "\n",
    "\n",
    "\n",
    "class BSOCNet(nn.Module):\n",
    "    def __init__(self):\n",
    "        super(BSOCNet, self).__init__()\n",
    "        ## These dimensions are because there are 10 kernels, we lose 4 on the other dimensions (from 72, 128) \n",
    "        ## Because we are not padding, we are losing 2 on each side of the image. \n",
    "        self.fc = nn.Linear(10 * 68 * 124, 2)\n",
    "        \n",
    "    def forward(self, x):\n",
    "        x = F.conv2d(x, kernels, padding=0, stride=1)\n",
    "        x = x.view(-1, 10*68*124)\n",
    "        x = self.fc(x)\n",
    "        return x\n",
    "        \n",
    "net = BSOCNet()"
   ]
  },
  {
   "cell_type": "markdown",
   "metadata": {},
   "source": [
    "Now with our network defined (with the Convolutional network as a template, not benchmark). Let's see if we train using our 20 images repeated 40 times if our network can learn!"
   ]
  },
  {
   "cell_type": "code",
   "execution_count": 39,
   "metadata": {},
   "outputs": [],
   "source": [
    "import torch.optim as optim\n",
    "\n",
    "criterion = nn.CrossEntropyLoss()\n",
    "optimizer = optim.SGD(net.parameters(), lr=0.001, momentum=0.9)"
   ]
  },
  {
   "cell_type": "code",
   "execution_count": 40,
   "metadata": {
    "scrolled": false
   },
   "outputs": [
    {
     "name": "stdout",
     "output_type": "stream",
     "text": [
      "Finished Training\n"
     ]
    }
   ],
   "source": [
    "for epoch in range(10):  # loop over the dataset multiple times\n",
    "#     running_loss = 0.0\n",
    "    for i, data in enumerate(roomLoader, 0):\n",
    "        # get the inputs\n",
    "        inputs, labels = data\n",
    "\n",
    "        # zero the parameter gradients\n",
    "        optimizer.zero_grad()\n",
    "\n",
    "        # forward + backward + optimize\n",
    "        outputs = net(inputs)\n",
    "        loss = criterion(outputs, labels)\n",
    "        loss.backward()\n",
    "        optimizer.step()\n",
    "\n",
    "        # print statistics\n",
    "#         running_loss += loss.item()\n",
    "#         print('[%d, %5d] loss: %.3f' %\n",
    "#                   (epoch + 1, i + 1, running_loss / 2000))\n",
    "print('Finished Training')"
   ]
  },
  {
   "cell_type": "code",
   "execution_count": 41,
   "metadata": {},
   "outputs": [
    {
     "name": "stdout",
     "output_type": "stream",
     "text": [
      "[ 3369.1519 -3372.0742]\n",
      "Kitchen\n",
      "[ 5926.7954 -5920.6816]\n",
      "Kitchen\n",
      "[ 5474.402  -5466.0522]\n",
      "Kitchen\n",
      "[ 4416.003  -4411.0635]\n",
      "Kitchen\n",
      "[ 7963.2197 -7958.658 ]\n",
      "Kitchen\n",
      "[-876.7017   886.81067]\n",
      "Room\n",
      "[ 5500.0884 -5493.6187]\n",
      "Kitchen\n",
      "[ 1019.215  -1016.8297]\n",
      "Kitchen\n",
      "[ 12823.803 -12815.991]\n",
      "Kitchen\n",
      "[ 5476.551 -5467.156]\n",
      "Kitchen\n",
      "[-6433.575   6441.9175]\n",
      "Room\n",
      "[-2642.958  2646.028]\n",
      "Room\n",
      "[ 1753.0742 -1752.0314]\n",
      "Kitchen\n",
      "[-7812.5522  7818.076 ]\n",
      "Room\n",
      "[-5951.856  5960.973]\n",
      "Room\n",
      "[-10553.076  10557.705]\n",
      "Room\n",
      "[-13388.41   13393.963]\n",
      "Room\n",
      "[-14854.46   14854.911]\n",
      "Room\n",
      "[-20619.225  20622.531]\n",
      "Room\n",
      "[-17260.115  17257.422]\n",
      "Room\n"
     ]
    },
    {
     "data": {
      "text/plain": [
       "['Kitchen', 'Room']"
      ]
     },
     "execution_count": 41,
     "metadata": {},
     "output_type": "execute_result"
    }
   ],
   "source": [
    "for i,data in enumerate(roomLoader, 0):\n",
    "    inputs, labels = data\n",
    "    output = net(inputs)\n",
    "    for j in output.data:\n",
    "        p = j.numpy()\n",
    "        ind = np.where(p == max(p))[0][0]\n",
    "        print(p)\n",
    "        print(room_dataset2.classes[ind])\n",
    "room_dataset2.classes"
   ]
  },
  {
   "cell_type": "markdown",
   "metadata": {},
   "source": [
    "Classification is done by taking the maximum value of the outputs. therefore, we see that in our inorder data, we have classified the first 10 images as Kitchen, and 9 (or 10, depending on trial and luck) out of 10 of the remainig images as Room. Of course, we expect good results because of the smalll sample size and the fact that we are testing on our training data."
   ]
  },
  {
   "cell_type": "code",
   "execution_count": 44,
   "metadata": {},
   "outputs": [],
   "source": [
    "class ConvNet(nn.Module):\n",
    "    def __init__(self):\n",
    "        super(ConvNet, self).__init__()\n",
    "        self.conv1 = nn.Conv2d(3, 10, 5)\n",
    "        self.fc1 = nn.Linear(10 * 68 * 124, 2)\n",
    "        \n",
    "    def forward(self, x):\n",
    "        x = self.conv1(x)\n",
    "        x = x.view(-1, 10 * 68 * 124)\n",
    "        x = self.fc1(x)\n",
    "        return x\n",
    "net2 = ConvNet()"
   ]
  },
  {
   "cell_type": "code",
   "execution_count": 45,
   "metadata": {},
   "outputs": [],
   "source": [
    "criterion = nn.CrossEntropyLoss()\n",
    "optimizer = optim.SGD(net2.parameters(), lr=0.001, momentum=0.9)\n",
    "for epoch in range(10):  # loop over the dataset multiple times\n",
    "#     running_loss = 0.0\n",
    "    for i, data in enumerate(roomLoader, 0):\n",
    "        # get the inputs\n",
    "        inputs, labels = data\n",
    "\n",
    "        # zero the parameter gradients\n",
    "        optimizer.zero_grad()\n",
    "\n",
    "        # forward + backward + optimize\n",
    "        outputs = net2(inputs)\n",
    "        loss = criterion(outputs, labels)\n",
    "        loss.backward()\n",
    "        optimizer.step()\n"
   ]
  },
  {
   "cell_type": "code",
   "execution_count": 46,
   "metadata": {},
   "outputs": [
    {
     "name": "stdout",
     "output_type": "stream",
     "text": [
      "[ 1.1426086  -0.90841144]\n",
      "Kitchen\n",
      "[ 1.1698337 -1.0974243]\n",
      "Kitchen\n",
      "[ 1.2155966 -0.9470705]\n",
      "Kitchen\n",
      "[0.14495961 0.2881697 ]\n",
      "Room\n",
      "[ 1.4272242 -1.061355 ]\n",
      "Kitchen\n",
      "[0.33529133 0.03132847]\n",
      "Kitchen\n",
      "[ 0.66311187 -0.48263606]\n",
      "Kitchen\n",
      "[ 0.43383834 -0.23321143]\n",
      "Kitchen\n",
      "[ 1.7784904 -1.333925 ]\n",
      "Kitchen\n",
      "[ 1.2260749  -0.84163505]\n",
      "Kitchen\n",
      "[-0.7140519  1.00108  ]\n",
      "Room\n",
      "[-0.08620625  0.35013425]\n",
      "Room\n",
      "[ 0.6629934 -0.2916848]\n",
      "Kitchen\n",
      "[-1.3223685  1.6481109]\n",
      "Room\n",
      "[-0.8564104  1.1311259]\n",
      "Room\n",
      "[-1.6083596  1.8339676]\n",
      "Room\n",
      "[-1.7706617  2.0158775]\n",
      "Room\n",
      "[-1.7566941  2.1005387]\n",
      "Room\n",
      "[-1.8811066  2.0436385]\n",
      "Room\n",
      "[-1.6791734  1.855024 ]\n",
      "Room\n"
     ]
    },
    {
     "data": {
      "text/plain": [
       "['Kitchen', 'Room']"
      ]
     },
     "execution_count": 46,
     "metadata": {},
     "output_type": "execute_result"
    }
   ],
   "source": [
    "for i,data in enumerate(roomLoader, 0):\n",
    "    inputs, labels = data\n",
    "    output = net2(inputs)\n",
    "    for j in output.data:\n",
    "        p = j.numpy()\n",
    "        ind = np.where(p == max(p))[0][0]\n",
    "        print(p)\n",
    "        print(room_dataset2.classes[ind])\n",
    "room_dataset2.classes"
   ]
  },
  {
   "cell_type": "markdown",
   "metadata": {},
   "source": [
    "This is a neat result because we see that our Convoultional network falsely classifies a lot more than our fixed one. We know this because we expect the first 10 to be Kitchen and the last 10 to be Room since this is how we trained it. I was expecting equal performance to the BSOC"
   ]
  },
  {
   "cell_type": "code",
   "execution_count": 49,
   "metadata": {},
   "outputs": [],
   "source": [
    "kernels_rand = torch.randn(10,3,5,5)\n",
    "class ConvNetFixedKernels(nn.Module):\n",
    "    def __init__(self):\n",
    "        super(ConvNetFixedKernels, self).__init__()\n",
    "        self.fc = nn.Linear(10 * 68 * 124, 2)\n",
    "        \n",
    "    def forward(self, x):\n",
    "        x = F.conv2d(x, kernels_rand, padding=0, stride=1)\n",
    "        x = x.view(-1, 10 * 68 * 124)\n",
    "        x = self.fc(x)\n",
    "        return x\n",
    "net3 = ConvNetFixedKernels()"
   ]
  },
  {
   "cell_type": "code",
   "execution_count": 50,
   "metadata": {},
   "outputs": [],
   "source": [
    "criterion = nn.CrossEntropyLoss()\n",
    "optimizer = optim.SGD(net3.parameters(), lr=0.001, momentum=0.9)\n",
    "for epoch in range(10):  # loop over the dataset multiple times\n",
    "#     running_loss = 0.0\n",
    "    for i, data in enumerate(roomLoader, 0):\n",
    "        # get the inputs\n",
    "        inputs, labels = data\n",
    "\n",
    "        # zero the parameter gradients\n",
    "        optimizer.zero_grad()\n",
    "\n",
    "        # forward + backward + optimize\n",
    "        outputs = net3(inputs)\n",
    "        loss = criterion(outputs, labels)\n",
    "        loss.backward()\n",
    "        optimizer.step()\n"
   ]
  },
  {
   "cell_type": "code",
   "execution_count": 51,
   "metadata": {},
   "outputs": [
    {
     "name": "stdout",
     "output_type": "stream",
     "text": [
      "[  8.574949 -11.713362]\n",
      "Kitchen\n",
      "[ 39.927414 -43.628204]\n",
      "Kitchen\n",
      "[ 20.00264  -24.587425]\n",
      "Kitchen\n",
      "[ 54.078552 -57.163506]\n",
      "Kitchen\n",
      "[  97.59509 -103.39204]\n",
      "Kitchen\n",
      "[-38.226208  32.126045]\n",
      "Room\n",
      "[ 70.26821  -74.150345]\n",
      "Kitchen\n",
      "[ 11.590749 -14.532576]\n",
      "Kitchen\n",
      "[ 174.35808 -179.68974]\n",
      "Kitchen\n",
      "[ 73.182945 -77.34572 ]\n",
      "Kitchen\n",
      "[-105.09409  100.46385]\n",
      "Room\n",
      "[-80.87271  77.49111]\n",
      "Room\n",
      "[-86.66643  82.23345]\n",
      "Room\n",
      "[-179.72525  174.69305]\n",
      "Room\n",
      "[-127.36094  121.67215]\n",
      "Room\n",
      "[-210.19641  205.38268]\n",
      "Room\n",
      "[-261.60257  255.47517]\n",
      "Room\n",
      "[-254.55688  251.16011]\n",
      "Room\n",
      "[-292.3463  290.0814]\n",
      "Room\n",
      "[-287.8599   284.37006]\n",
      "Room\n"
     ]
    }
   ],
   "source": [
    "for i,data in enumerate(roomLoader, 0):\n",
    "    inputs, labels = data\n",
    "    output = net3(inputs)\n",
    "    for j in output.data:\n",
    "        p = j.numpy()\n",
    "        ind = np.where(p == max(p))[0][0]\n",
    "        print(p)\n",
    "        print(room_dataset2.classes[ind])"
   ]
  },
  {
   "cell_type": "markdown",
   "metadata": {},
   "source": [
    "Look at this result, we see that our randomly made fixed kernels network are a lot worse than our BSOCs! This tells us that pre-seeding a convoultional network will give us faster training (in our specific case of 20 images repeated 40 times using the specific images we have here)! This gives promising results and could potentially mean that we can more quickly train neural nets simply passing our images through a BSOC. There are obviously questions and future work available: \n",
    "* Will this still work when we increase the train and test data?\n",
    "* What is performance when not testing on training data?\n",
    "* Will dynamically changing BSOCs instead of statically generated before hand be better?\n",
    "* To what extent will altering the number of BSOC nodes and kernels change performance?\n",
    "\n",
    "I did not create bsocs which train as we go because of the nature of my implementation of BSOC. Because I remove both of the closest nodes and re add them to the node list, the order of nodes shifts all the time.\n",
    "\n",
    "# Questions from Dr. Ferrer\n",
    "* How do people define convolutional layers initially besides random. \n",
    "* <s>ConvNet with fixed kernels and without (no back propagation)</s>\n",
    "* <s>ConvNet without fixed kernels (Normal)</s>\n",
    "* <s>BSOCNet with Fixed kernels (Hypothesis)</s>\n",
    "* BSOCNet with without fixed kernels. \n",
    "* how are the convolutional network weights back propagated?\n",
    "* <s>Generate test images with squares in them to see if bsoc works correctly</s>"
   ]
  },
  {
   "cell_type": "code",
   "execution_count": null,
   "metadata": {},
   "outputs": [],
   "source": []
  }
 ],
 "metadata": {
  "kernelspec": {
   "display_name": "Python [default]",
   "language": "python",
   "name": "python3"
  },
  "language_info": {
   "codemirror_mode": {
    "name": "ipython",
    "version": 3
   },
   "file_extension": ".py",
   "mimetype": "text/x-python",
   "name": "python",
   "nbconvert_exporter": "python",
   "pygments_lexer": "ipython3",
   "version": "3.5.5"
  }
 },
 "nbformat": 4,
 "nbformat_minor": 2
}
