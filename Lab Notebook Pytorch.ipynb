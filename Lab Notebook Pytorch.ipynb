{
 "cells": [
  {
   "cell_type": "markdown",
   "metadata": {},
   "source": [
    "# BSOC as a Convoultional Layer\n",
    "\n",
    "This work is based on papers by Dr. Gabriel Ferrer from Hendrix College. I will explore the practicality of using Bounded Self-Organizing Clusters (BSOC) as a way to create the first convoultional in a convoultional network. I will be using Pytorch as a baseline in this notebook.\n",
    "\n",
    "## Data:\n",
    "The data comes from pictures taken on a Galaxy S8 at 1280x720px.\n",
    "### 7/9/2018\n",
    "Room: 10 Pictures <br/>\n",
    "Kitchen: 10 Pictures\n",
    "\n",
    "## 1: Running a basic test with CIFAR10:"
   ]
  },
  {
   "cell_type": "code",
   "execution_count": 3,
   "metadata": {},
   "outputs": [
    {
     "name": "stdout",
     "output_type": "stream",
     "text": [
      "Files already downloaded and verified\n",
      "Files already downloaded and verified\n",
      "  car  ship  frog  frog\n"
     ]
    }
   ],
   "source": [
    "## Loading the Data\n",
    "import torch\n",
    "import torchvision\n",
    "import torchvision.transforms as transforms\n",
    "import numpy as np\n",
    "import matplotlib.pyplot as plt\n",
    "from PIL import Image\n",
    "\n",
    "transform = transforms.Compose(\n",
    "    [transforms.ToTensor(),\n",
    "     transforms.Normalize((0.5, 0.5, 0.5), (0.5, 0.5, 0.5))])\n",
    "\n",
    "trainset = torchvision.datasets.CIFAR10(root='./data', train=True,\n",
    "                                        download=True, transform=transform)\n",
    "trainloader = torch.utils.data.DataLoader(trainset, batch_size=4,\n",
    "                                          shuffle=True, num_workers=2)\n",
    "\n",
    "testset = torchvision.datasets.CIFAR10(root='./data', train=False,\n",
    "                                       download=True, transform=transform)\n",
    "testloader = torch.utils.data.DataLoader(testset, batch_size=4,\n",
    "                                         shuffle=False, num_workers=2)\n",
    "\n",
    "classes = ('plane', 'car', 'bird', 'cat',\n",
    "           'deer', 'dog', 'frog', 'horse', 'ship', 'truck')\n",
    "\n",
    "\n",
    "def imshow(img):\n",
    "    img = img / 2 + 0.5     # unnormalize\n",
    "    npimg = img.numpy()\n",
    "    plt.imshow(np.transpose(npimg, (1, 2, 0)))\n",
    "\n",
    "\n",
    "\n",
    "# get some random training images\n",
    "dataiter = iter(trainloader)\n",
    "images, labels = dataiter.next()\n",
    "\n",
    "# show images\n",
    "imshow(torchvision.utils.make_grid(images))\n",
    "# print labels\n",
    "print(' '.join('%5s' % classes[labels[j]] for j in range(4)))"
   ]
  },
  {
   "cell_type": "code",
   "execution_count": 4,
   "metadata": {},
   "outputs": [
    {
     "data": {
      "text/plain": [
       "torch.Size([3, 32, 32])"
      ]
     },
     "execution_count": 4,
     "metadata": {},
     "output_type": "execute_result"
    },
    {
     "data": {
      "image/png": "[encoded data removed]",
      "text/plain": [
       "<Figure size 432x288 with 1 Axes>"
      ]
     },
     "metadata": {},
     "output_type": "display_data"
    }
   ],
   "source": [
    "imshow(torchvision.utils.make_grid(images))\n",
    "images[0].shape"
   ]
  },
  {
   "cell_type": "code",
   "execution_count": 5,
   "metadata": {},
   "outputs": [],
   "source": [
    "np.zeros((2,3,4)) ## creates 2, 3x4 arrays\n",
    "import heapq as hq\n",
    "\n",
    "## Let's write a wrapper around heapq to help keep us sane.\n",
    "## this heap needs to let us remove an arbitrary amount of edges\n",
    "\n",
    "class Heap():\n",
    "    def __init__(self):\n",
    "        self.list = []\n",
    "    def add(self, item, priority=0):\n",
    "        hq.heappush(self.list, (priority, item))\n",
    "    def add_many(self, entries_list, entries_priorities):\n",
    "        self.list += [li for li in zip(entries_priorities, entries)]\n",
    "        hq.heapify(self.list)\n",
    "    def pop(self):\n",
    "        return hq.heappop(self.list)\n",
    "    def filter_f(self, filter_func):\n",
    "        self.list = list(filter(filter_func, self.list))\n",
    "        hq.heapify(self.list)\n",
    "    def remove_many(self, entries):\n",
    "        set_check = set(entries)\n",
    "        self.list = [(p,e) for p,e in self.list if e not in set_check]\n",
    "        hq.heapify(self.list)\n",
    "        ## we do this because it is faster to create a new list rather than modify a ton of items in a list\n",
    "        ## Todo, check if this is faster than a for loop to remove each item from a list.\n",
    "    def __remove_1(self, entry):\n",
    "        i_to_remove = -1;\n",
    "        for i in range(len(self.list)):\n",
    "            p,e = self.list[i]\n",
    "            if e == entry:\n",
    "                i_to_remove = i\n",
    "        if i_to_remove == -1:\n",
    "            raise ValueError(\"Could not find entry in heap\")\n",
    "        del self.list[i_to_remove]\n",
    "    \n",
    "    def remove_any_instance_of(self, i):\n",
    "        self.list = [(p,e) for (p,e) in self.list if (e.a != i and e.b != i)]\n",
    "        hq.heapify(self.list)\n",
    "    def remove(self, entry):\n",
    "        self.__remove_1(entry)\n",
    "        hq.heapify(self.list)\n",
    "    def remove_many_inplace(self, entries):\n",
    "        for e in entries:\n",
    "            self.__remove_1(e)\n",
    "        \n",
    "    \n",
    "        \n",
    "## Let's also just name our edges\n",
    "class Edge():\n",
    "    def __init__(self, a, b, weight):\n",
    "        self.a = a\n",
    "        self.b = b\n",
    "        self.weight = weight\n",
    "    def __eq__(self, other):\n",
    "#         print(type(self.a))\n",
    "#         print(type(self.b))\n",
    "        return other.contains(self.a) and other.contains(self.b) and other.weight == self.weight\n",
    "\n",
    "    def __lt__(self, other):\n",
    "        return self.weight < other.weight\n",
    "    \n",
    "    def __le__(self, other):\n",
    "        return self.weight <= other.weight\n",
    "    \n",
    "    def __gt__(self, other):\n",
    "        return self.weight > other.weight\n",
    "    \n",
    "    def __ge__(self, other):\n",
    "        return self.weight >= other.weight\n",
    "    \n",
    "    def __repr__(self):\n",
    "        return str(self.a.ID) + \" \" + str(self.b.ID) + \" \" + str(self.weight)\n",
    "    ## checks if a or b is c\n",
    "    def contains(self, c):\n",
    "        t1 = self.a == c\n",
    "        t2 = self.b == c\n",
    "        return t1 or t2\n",
    "        \n",
    "        "
   ]
  },
  {
   "cell_type": "markdown",
   "metadata": {},
   "source": [
    "# Defining BSOC"
   ]
  },
  {
   "cell_type": "code",
   "execution_count": 6,
   "metadata": {},
   "outputs": [],
   "source": [
    "class BSOC_Image_Node():\n",
    "    def __init__(self, node_height, node_width, node_channels, ID = -1,  merge_count = 1, array=None):\n",
    "        self.height = node_height\n",
    "        self.width = node_width\n",
    "        self.channels = node_channels\n",
    "        self.ID = ID\n",
    "        \n",
    "        if array is None:\n",
    "            self.array = np.zeros(shape=(node_height, node_width, node_channels))\n",
    "        else :\n",
    "            self.array = array\n",
    "        self.merge_count = merge_count\n",
    "    \n",
    "    ## Returns a new node of this node and the other node merged together\n",
    "    ## merge_f(node1, node2) returns new node. \n",
    "    def merge(self, other_node, new_ID, merge_func = None):\n",
    "        if merge_func == None:\n",
    "            ## default merge\n",
    "            newCount = self.merge_count + other_node.merge_count\n",
    "            a1 = self.array\n",
    "            a2 = other_node.array\n",
    "            r1 = self.merge_count / newCount\n",
    "            r2 = other_node.merge_count / newCount\n",
    "            a3 = (a1 * r1) + (a2 * r2)\n",
    "            return BSOC_Image_Node(self.height, self.width, self.channels, ID=new_ID, merge_count = newCount, array=a3)\n",
    "        return merge_func(self, other_node)\n",
    "    \n",
    "    def __eq__(self, other):\n",
    "        return other.ID == self.ID\n",
    "#         return np.array_equal(self.array, other.array) and self.merge_count == other.merge_count\n",
    "    def __repr__(self):\n",
    "        return self.array.__repr__()\n",
    "        \n",
    "    def calculate_distance(self, other):\n",
    "        return (self.merge_count + other.merge_count) * np.sum(np.absolute(self.array - other.array))\n",
    "        \n",
    "        \n",
    "        \n",
    "class BSOC():\n",
    "    def __init__(self, nodes_count, node_channels=1):\n",
    "        self.total_nodes = nodes_count\n",
    "        self.node_channels = node_channels\n",
    "        self.node_list = []\n",
    "        self.pq = Heap()\n",
    "        self.generator = self.__default_generator()\n",
    "        \n",
    "    def __default_generator(self):\n",
    "        i = 0\n",
    "        while True:\n",
    "            yield i\n",
    "            i += 1\n",
    "    def next_ID(self):\n",
    "        return next(self.generator)\n",
    "    ## if we're below the node threshold, then place the pixel array into the numpy list, \n",
    "    def add_node(self, pixel_arr):\n",
    "        node = BSOC_Image_Node(pixel_arr.shape[0], pixel_arr.shape[1], pixel_arr.shape[2], ID=self.next_ID(), array=pixel_arr)\n",
    "        ## Add the node to the priority queue. \n",
    "        self.add_node_and_edges(node)\n",
    "        if len(self.node_list) > self.total_nodes:\n",
    "            weight, e = self.pq.pop()\n",
    "            self.node_list = [x for x in self.node_list if x not in (e.a, e.b) ] ## deletes a and b from the list\n",
    "            self.pq.remove_any_instance_of(e.a)\n",
    "            self.pq.remove_any_instance_of(e.b)\n",
    "            self.__merge(e.a, e.b)\n",
    "\n",
    "            \n",
    "                    \n",
    "    def add_node_and_edges(self, node):\n",
    "        for n in self.node_list:\n",
    "            e = Edge(node, n, weight=n.calculate_distance(node))\n",
    "            self.pq.add(e, e.weight)\n",
    "        self.node_list.append(node)\n",
    "\n",
    "    ## merges nodes a and b and adds their respective edges to the priority queue\n",
    "    ## merge_func = function to merge together the nodes at the indeces\n",
    "    def __merge(self, a, b, merge_func=None):\n",
    "        new_node = a.merge(b, self.next_ID(), merge_func)\n",
    "        self.add_node_and_edges(new_node)\n",
    "\n",
    "        \n",
    "    ## Only works on raw images, if converted to tensors or loaded from pytorch default libraries, it won't show\n",
    "    def print_bsoc(self, ncols=-1, nrows=1):\n",
    "        if ncols * nrows < len(self.node_list):\n",
    "            ncols = len(self.node_list)\n",
    "        fig, axeslist = plt.subplots(ncols=ncols, nrows=nrows, figsize=(20, 10))\n",
    "        print(len(self.node_list))\n",
    "            \n",
    "        for i in range(len(self.node_list)):\n",
    "            a = axeslist.ravel()[i]\n",
    "            a.imshow(self.node_list[i].array.astype(np.int64))\n",
    "            a.get_xaxis().set_visible(False)\n",
    "            a.get_yaxis().set_visible(False)\n",
    "            a.set_title('Merged {}x {}'.format(self.node_list[i].merge_count, self.node_list[i].ID))\n",
    "            "
   ]
  },
  {
   "cell_type": "markdown",
   "metadata": {},
   "source": [
    "# BSOC Test\n",
    "\n",
    "We need to verify that we correctly implemented BSOC, so let's see the output of combining a few images together\n",
    "\n",
    "## Loading data"
   ]
  },
  {
   "cell_type": "code",
   "execution_count": 7,
   "metadata": {},
   "outputs": [],
   "source": [
    "# Get out data files\n",
    "import os\n",
    "\n",
    "## Creating a base class for our dataset\n",
    "from torch.utils.data import Dataset\n",
    "from PIL import Image\n",
    "\n",
    "class simpleImageDataset(Dataset):\n",
    "    \"\"\" Loads images, it assumes that the folder in which the file is stored is the label \"\"\"\n",
    "    \n",
    "    def __init__(self, directory, transform=None):\n",
    "        self.label_to_ind_dict = {}\n",
    "        self.ind_to_label = {}\n",
    "        self.labels = []\n",
    "        self.file_paths = []\n",
    "        self.transform = transform\n",
    "        self.label_count = 0\n",
    "        for dirpath, dirname, filenames in os.walk(directory):\n",
    "            for file in filenames:\n",
    "                label = dirpath.split(os.sep)[-1]\n",
    "                if label not in self.label_to_ind_dict:\n",
    "                    self.label_to_ind_dict[label] = self.label_count\n",
    "                    self.ind_to_label[self.label_count] = label\n",
    "                    self.label_count += 1\n",
    "                self.labels.append(dirpath.split(os.sep)[-1])\n",
    "                self.file_paths.append(os.path.join(dirpath, file))\n",
    "    \n",
    "    def __len__(self):\n",
    "        return len(self.labels)\n",
    "    \n",
    "    def __getitem__(self, idx):\n",
    "        image = Image.open(self.file_paths[idx])\n",
    "        label = self.labels[idx]\n",
    "        sample = {'image':image}\n",
    "        \n",
    "        if self.transform:\n",
    "            sample = {'image': self.transform(image)}\n",
    "        return sample\n",
    "    def label_for(self, idx):\n",
    "        return self.labels[idx]\n",
    "    def label_tensor(self, idx):\n",
    "        return torch.Tensor([self.label_to_ind_dict[self.label_for(idx)], self.label_count])\n",
    "\n",
    "## Viewing our Data\n",
    "room_dataset = simpleImageDataset(\"./Data\", transform=transforms.Compose([transforms.Resize((72,128)),\n",
    "                                                                            transforms.ToTensor()]))\n",
    "# fig = plt.figure(figsize=(20,10))\n",
    "# for i in range(len(room_dataset)):\n",
    "#     sample = room_dataset[i]\n",
    "#     ax = plt.subplot(1, 4, i+1)\n",
    "#     plt.tight_layout()\n",
    "#     ax.set_title(\"sample #{}\".format(i))\n",
    "#     ax.axis('off')\n",
    "    \n",
    "#     plt.imshow(sample['image'])\n",
    "#     if i==3:\n",
    "#         plt.show()\n",
    "#         break"
   ]
  },
  {
   "cell_type": "code",
   "execution_count": 8,
   "metadata": {},
   "outputs": [],
   "source": [
    "import time\n",
    "\n",
    "## Generates kernels_count kernels of kernel_size from dataset \n",
    "def generate_kernels(kernels_count, kernel_size, dataset):\n",
    "    start_time = time.time() * 1000\n",
    "    bsoc = BSOC(nodes_count=kernels_count)\n",
    "    offset = (kernel_size // 2) * 2\n",
    "    for i,data in enumerate(dataset, 0):\n",
    "#     for i in range(1):\n",
    "        image = data[0].numpy()\n",
    "        ## Iterate through the image\n",
    "        for r in range(len(image[1]) - offset):\n",
    "            r_stop = r + kernel_size\n",
    "            for c in range(len(image[2]) - offset):\n",
    "                bsoc.add_node(image[:,r:r_stop, c:c+kernel_size])\n",
    "    print(\"Total time in milli: \" + str(time.time()*1000 - start_time))\n",
    "    return bsoc"
   ]
  },
  {
   "cell_type": "code",
   "execution_count": 19,
   "metadata": {},
   "outputs": [
    {
     "name": "stdout",
     "output_type": "stream",
     "text": [
      "10\n"
     ]
    },
    {
     "data": {
      "text/plain": [
       "[37, 40, 37, 36, 35, 33, 39, 38, 42, 63]"
      ]
     },
     "execution_count": 19,
     "metadata": {},
     "output_type": "execute_result"
    },
    {
     "data": {
      "image/png": "[encoded data removed]",
      "text/plain": [
       "<Figure size 1440x720 with 10 Axes>"
      ]
     },
     "metadata": {},
     "output_type": "display_data"
    }
   ],
   "source": [
    "\n",
    "test_dataset = simpleImageDataset(\"./test_data/\")\n",
    "bsoc = BSOC(nodes_count=10)\n",
    "\n",
    "for i in range(len(test_dataset)):\n",
    "    bsoc.add_node(np.array(test_dataset[i]['image']))\n",
    "bsoc.print_bsoc(nrows=2, ncols=5)\n",
    "[x.merge_count for x in bsoc.node_list]\n"
   ]
  },
  {
   "cell_type": "code",
   "execution_count": 9,
   "metadata": {},
   "outputs": [],
   "source": [
    "room_dataset2 = torchvision.datasets.ImageFolder(root=\"./Data\",transform=transforms.Compose([transforms.Resize((72,128)),\n",
    "                                                                                    transforms.ToTensor()]))\n",
    "\n",
    "roomLoader = torch.utils.data.DataLoader(room_dataset2,batch_size=20,\n",
    "                                          shuffle=False, num_workers=2)"
   ]
  },
  {
   "cell_type": "code",
   "execution_count": 10,
   "metadata": {},
   "outputs": [
    {
     "name": "stdout",
     "output_type": "stream",
     "text": [
      "Total time in milli: 33588.87744140625\n"
     ]
    }
   ],
   "source": [
    "bsoc = generate_kernels(10, 5, room_dataset2)"
   ]
  },
  {
   "cell_type": "code",
   "execution_count": 11,
   "metadata": {},
   "outputs": [
    {
     "data": {
      "text/plain": [
       "torch.Size([10, 3, 5, 5])"
      ]
     },
     "execution_count": 11,
     "metadata": {},
     "output_type": "execute_result"
    }
   ],
   "source": [
    "kernels = [x.array for x in bsoc.node_list]\n",
    "kernels = torch.from_numpy(np.array(kernels))\n",
    "kernels.shape"
   ]
  },
  {
   "cell_type": "code",
   "execution_count": 12,
   "metadata": {},
   "outputs": [],
   "source": [
    "import torch.nn as nn\n",
    "import torch.nn.functional as F\n",
    "import queue\n",
    "\n",
    "\n",
    "\n",
    "class BSOCNet(nn.Module):\n",
    "    def __init__(self):\n",
    "        super(BSOCNet, self).__init__()\n",
    "        self.fc = nn.Linear(10 * 70 * 126, 2)\n",
    "        \n",
    "    def forward(self, x):\n",
    "        x = F.conv2d(x, kernels, stride=1, padding=1)\n",
    "        x = x.view(-1, 10*70*126)\n",
    "        x = self.fc(x)\n",
    "        return x\n",
    "\n",
    "class ConvNet(nn.Module):\n",
    "    def __init__(self):\n",
    "        super(ConvNet, self).__init__()\n",
    "        self.conv1 = nn.Conv2d(3, 10, 5)\n",
    "        self.fc1 = nn.Linear(10 * 28 * 28, 10)\n",
    "        \n",
    "    def forward(self, x):\n",
    "        x = self.conv1(x)\n",
    "        x = x.view(-1, 10 * 28 * 28)\n",
    "        x = self.fc1(x)\n",
    "        return x\n",
    "        \n",
    "net = BSOCNet()"
   ]
  },
  {
   "cell_type": "markdown",
   "metadata": {},
   "source": [
    "It looks like from [here](https://discuss.pytorch.org/t/defining-a-conv2d-layer-with-fixed-kernel/8684) that we can use F.conv2d to manually define layers [documentation](https://pytorch.org/docs/stable/nn.html#torch.nn.functional.conv2d) and [this](https://discuss.pytorch.org/t/pytorch-replace-torch-nn-conv2d-with-torch-nn-functional-conv2d/16596) link might help if we get errors"
   ]
  },
  {
   "cell_type": "code",
   "execution_count": 13,
   "metadata": {},
   "outputs": [],
   "source": [
    "import torch.optim as optim\n",
    "\n",
    "criterion = nn.CrossEntropyLoss()\n",
    "optimizer = optim.SGD(net.parameters(), lr=0.001, momentum=0.9)"
   ]
  },
  {
   "cell_type": "code",
   "execution_count": 14,
   "metadata": {
    "scrolled": false
   },
   "outputs": [
    {
     "name": "stdout",
     "output_type": "stream",
     "text": [
      "Finished Training\n"
     ]
    }
   ],
   "source": [
    "for epoch in range(40):  # loop over the dataset multiple times\n",
    "    running_loss = 0.0\n",
    "    for i, data in enumerate(roomLoader, 0):\n",
    "        # get the inputs\n",
    "        inputs, labels = data\n",
    "\n",
    "        # zero the parameter gradients\n",
    "        optimizer.zero_grad()\n",
    "\n",
    "        # forward + backward + optimize\n",
    "        outputs = net(inputs)\n",
    "        loss = criterion(outputs, labels)\n",
    "        loss.backward()\n",
    "        optimizer.step()\n",
    "\n",
    "        # print statistics\n",
    "#         running_loss += loss.item()\n",
    "#         print('[%d, %5d] loss: %.3f' %\n",
    "#                   (epoch + 1, i + 1, running_loss / 2000))\n",
    "print('Finished Training')"
   ]
  },
  {
   "cell_type": "code",
   "execution_count": 15,
   "metadata": {},
   "outputs": [
    {
     "name": "stdout",
     "output_type": "stream",
     "text": [
      "tensor([[  2270.8113,  -2257.2842],\n",
      "        [  2288.5723,  -2271.4128],\n",
      "        [  2124.9937,  -2099.7427],\n",
      "        [ 12125.0576, -12108.4023],\n",
      "        [  1946.4172,  -1926.4924],\n",
      "        [  4661.0884,  -4633.8218],\n",
      "        [ 10986.6514, -10961.8867],\n",
      "        [  4205.2773,  -4180.6685],\n",
      "        [  8895.5410,  -8867.7793],\n",
      "        [  2020.2233,  -1995.1459],\n",
      "        [ -5775.3550,   5800.7222],\n",
      "        [ -5947.3828,   5966.2764],\n",
      "        [ -8037.9814,   8063.1055],\n",
      "        [ -7091.5361,   7121.7837],\n",
      "        [ -7275.2842,   7298.7637],\n",
      "        [-10528.8818,  10556.1943],\n",
      "        [-12435.0107,  12455.8955],\n",
      "        [-15039.8457,  15059.7246],\n",
      "        [-18823.2637,  18845.5371],\n",
      "        [-21256.7344,  21275.5527]])\n"
     ]
    }
   ],
   "source": [
    "for i,data in enumerate(roomLoader, 0):\n",
    "    inputs, labels = data\n",
    "    print(net(inputs))"
   ]
  },
  {
   "cell_type": "markdown",
   "metadata": {},
   "source": [
    "Evidently, using only a Convoluted layer and a MLP/Dense layer is not a good classifier. The commented out code above is the tuorial which gives much lower loss (around 1.12)"
   ]
  },
  {
   "cell_type": "code",
   "execution_count": 34,
   "metadata": {},
   "outputs": [
    {
     "name": "stdout",
     "output_type": "stream",
     "text": [
      "(10, 3, 5, 5)\n",
      "(3,)\n",
      "[[-0.09637843  0.08512098  0.11013851 -0.01549788  0.02775969]\n",
      " [ 0.06870964  0.05168772 -0.03357208 -0.06287108  0.02407114]\n",
      " [-0.0111529  -0.08104364  0.03487998 -0.10813116  0.00409912]\n",
      " [ 0.01432148  0.07148701  0.06743662 -0.0345263   0.05942763]\n",
      " [ 0.08592044  0.0579102  -0.0812898   0.05857071  0.0347359 ]]\n",
      "0\n",
      "[[ 0.10365884 -0.00947934  0.05508061  0.09593777  0.11002512]\n",
      " [ 0.02702767  0.11001402  0.07536751  0.06760682 -0.02529428]\n",
      " [-0.01035385 -0.02507612  0.04104014 -0.05594692 -0.03454244]\n",
      " [ 0.10841495 -0.07611939  0.07138833  0.02999318  0.04930627]\n",
      " [ 0.0108217   0.02096641  0.10466358  0.0571364  -0.09553624]]\n",
      "10\n",
      "[[ 0.10512796 -0.03005054 -0.00940652  0.08912785 -0.03248838]\n",
      " [ 0.0964251   0.11412682 -0.02998253  0.02109608 -0.06853302]\n",
      " [-0.06128663  0.01218118  0.10603376  0.01264136  0.06043579]\n",
      " [-0.07368945 -0.0846523  -0.02348094  0.02945076 -0.02664285]\n",
      " [-0.00015405 -0.02702193 -0.08856401  0.10429175  0.10138449]]\n",
      "20\n"
     ]
    },
    {
     "data": {
      "image/png": "[encoded data removed]",
      "text/plain": [
       "<Figure size 432x288 with 3 Axes>"
      ]
     },
     "metadata": {},
     "output_type": "display_data"
    }
   ],
   "source": [
    "def view_kernels(tensor):\n",
    "    width, height, kern_width, kern_height = tensor.shape\n",
    "    _, axarr = plt.subplots(1 , height)\n",
    "    print(axarr.shape)\n",
    "    h = 0\n",
    "    w = 0\n",
    "    while ((h * height + w * width) < (height * width)):\n",
    "        axarr[w].axis('off')\n",
    "        axarr[w].imshow(tensor[w][h])\n",
    "        print(tensor[w][h])\n",
    "        print((h * height + w * width))\n",
    "        w += 1\n",
    "        if w >= width:\n",
    "            h += 1\n",
    "            w = 0\n",
    "    \n",
    "    \n",
    "count = 0\n",
    "for m in net.modules():\n",
    "    if isinstance(m, nn.Conv2d):\n",
    "        if count == 0:\n",
    "            print((m.weight.data.numpy().shape))\n",
    "            view_kernels(m.weight.data.numpy())\n",
    "        count += 1"
   ]
  },
  {
   "cell_type": "markdown",
   "metadata": {},
   "source": [
    "# TODO\n",
    "* How do people define convolutional layers initially besides random. \n",
    "* ConvNet with fixed kernels and without (no back propagation) \n",
    "* ConvNet without fixed kernels (Normal)\n",
    "* BSOCNet with Fixed kernels (Hypothesis)\n",
    "* BSOCNet with without fixed kternels. \n",
    "* how are the convolutional network weights back propagated?\n",
    "* Generate white images with red squares in them to see if bsoc works correctly"
   ]
  },
  {
   "cell_type": "code",
   "execution_count": 577,
   "metadata": {},
   "outputs": [],
   "source": [
    "width = 100\n",
    "height = 100\n",
    "steps = 20\n",
    "radius = 20\n",
    "w_step = (width - radius) // steps\n",
    "h_step = (height - radius) // steps\n",
    "count = 0\n",
    "for r in range(steps):\n",
    "    h_start = radius + r * h_step\n",
    "    for c in range(steps):\n",
    "        count += 1\n",
    "        w_start = radius + c * w_step\n",
    "        img = np.zeros([width, height,3],dtype=np.uint8)\n",
    "        img.fill(255)\n",
    "        img[h_start:h_start+radius, w_start:w_start+radius, 1] = 0\n",
    "        im = Image.fromarray(img)\n",
    "        im.save(\"./test_data/{}.png\".format(count))\n",
    "\n"
   ]
  },
  {
   "cell_type": "code",
   "execution_count": 470,
   "metadata": {},
   "outputs": [],
   "source": [
    "import numpy as np"
   ]
  },
  {
   "cell_type": "code",
   "execution_count": null,
   "metadata": {},
   "outputs": [],
   "source": []
  }
 ],
 "metadata": {
  "kernelspec": {
   "display_name": "Python [default]",
   "language": "python",
   "name": "python3"
  },
  "language_info": {
   "codemirror_mode": {
    "name": "ipython",
    "version": 3
   },
   "file_extension": ".py",
   "mimetype": "text/x-python",
   "name": "python",
   "nbconvert_exporter": "python",
   "pygments_lexer": "ipython3",
   "version": "3.5.5"
  }
 },
 "nbformat": 4,
 "nbformat_minor": 2
}
